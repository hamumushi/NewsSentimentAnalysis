{
 "cells": [
  {
   "cell_type": "markdown",
   "metadata": {},
   "source": [
    "# Testing a Pre-Trained Network"
   ]
  },
  {
   "cell_type": "markdown",
   "metadata": {},
   "source": [
    "Now that we know how to train an LSTM network, let's see try seeing the results on our own input text!\n",
    "\n",
    "As we showed at the end of the Oriole notebook, we can load in a pretrained LSTM network using Tensorflow's Saver object. Before creating that object, we first have to create our Tensorflow graph. \n",
    "\n",
    "First, we declare some of our hyperparamters. "
   ]
  },
  {
   "cell_type": "code",
   "execution_count": 1,
   "metadata": {},
   "outputs": [],
   "source": [
    "numDimensions = 300\n",
    "maxSeqLength = 550\n",
    "batchSize = 24\n",
    "lstmUnits = 64\n",
    "numClasses = 2\n",
    "#iterations = 100000\n",
    "#iterations = 150000\n",
    "#iterations = 200000\n",
    "#iterations = 250000\n",
    "iterations = 300000\n",
    "#iterations = 350000"
   ]
  },
  {
   "cell_type": "markdown",
   "metadata": {},
   "source": [
    "Then, we'll load in our data structures."
   ]
  },
  {
   "cell_type": "code",
   "execution_count": 2,
   "metadata": {},
   "outputs": [
    {
     "name": "stdout",
     "output_type": "stream",
     "text": [
      "Loaded the word list!\n",
      "Loaded the word vectors!\n"
     ]
    }
   ],
   "source": [
    "import numpy as np\n",
    "with open('wordsList_glove_dim200.txt') as f:\n",
    "    wordsList = [s.strip() for s in f.readlines()]\n",
    "print('Loaded the word list!')\n",
    "wordVectors = np.load('wordVectors_glove_dim200.npy')\n",
    "print ('Loaded the word vectors!')"
   ]
  },
  {
   "cell_type": "markdown",
   "metadata": {},
   "source": [
    "Next, we'll create our graph. This is the same code as we saw in the main Oriole notebook. "
   ]
  },
  {
   "cell_type": "code",
   "execution_count": 3,
   "metadata": {},
   "outputs": [],
   "source": [
    "import tensorflow as tf\n",
    "tf.reset_default_graph()\n",
    "\n",
    "labels = tf.placeholder(tf.float32, [batchSize, numClasses])\n",
    "input_data = tf.placeholder(tf.int32, [batchSize, maxSeqLength])\n",
    "\n",
    "data = tf.Variable(tf.zeros([batchSize, maxSeqLength, numDimensions]),dtype=tf.float32)\n",
    "data = tf.nn.embedding_lookup(wordVectors,input_data)\n",
    "\n",
    "lstmCell = tf.contrib.rnn.BasicLSTMCell(lstmUnits)\n",
    "lstmCell = tf.contrib.rnn.DropoutWrapper(cell=lstmCell, output_keep_prob=0.25)\n",
    "value, _ = tf.nn.dynamic_rnn(lstmCell, data, dtype=tf.float32)\n",
    "\n",
    "weight = tf.Variable(tf.truncated_normal([lstmUnits, numClasses]))\n",
    "bias = tf.Variable(tf.constant(0.1, shape=[numClasses]))\n",
    "value = tf.transpose(value, [1, 0, 2])\n",
    "last = tf.gather(value, int(value.get_shape()[0]) - 1)\n",
    "prediction = (tf.matmul(last, weight) + bias)\n",
    "\n",
    "correctPred = tf.equal(tf.argmax(prediction,1), tf.argmax(labels,1))\n",
    "accuracy = tf.reduce_mean(tf.cast(correctPred, tf.float32))"
   ]
  },
  {
   "cell_type": "markdown",
   "metadata": {},
   "source": [
    "Now, we load in the network. "
   ]
  },
  {
   "cell_type": "code",
   "execution_count": 4,
   "metadata": {},
   "outputs": [
    {
     "name": "stdout",
     "output_type": "stream",
     "text": [
      "INFO:tensorflow:Restoring parameters from models8/pretrained_lstm.ckpt-300000\n"
     ]
    }
   ],
   "source": [
    "sess = tf.InteractiveSession()\n",
    "saver = tf.train.Saver()\n",
    "#saver.restore(sess, tf.train.latest_checkpoint('models3'))# 10\n",
    "#saver.restore(sess, tf.train.latest_checkpoint('models4'))# 15\n",
    "#saver.restore(sess, tf.train.latest_checkpoint('models5'))# 20\n",
    "#saver.restore(sess, tf.train.latest_checkpoint('models7'))# 25\n",
    "saver.restore(sess, tf.train.latest_checkpoint('models8'))# 30\n",
    "#saver.restore(sess, tf.train.latest_checkpoint('models9))# 35"
   ]
  },
  {
   "cell_type": "markdown",
   "metadata": {},
   "source": [
    "Before we input our own text, let's first define a couple of functions. The first is a function to make sure the sentence is in the proper format, and the second is a function that obtains the word vectors for each of the words in a given sentence. "
   ]
  },
  {
   "cell_type": "code",
   "execution_count": 5,
   "metadata": {},
   "outputs": [],
   "source": [
    "# Removes punctuation, parentheses, question marks, etc., and leaves only alphanumeric characters\n",
    "import re\n",
    "strip_special_chars = re.compile(\"[^A-Za-z0-9 ]+\")\n",
    "\n",
    "def cleanSentences(string):\n",
    "    string = string.lower().replace(\"<br />\", \" \")\n",
    "    return re.sub(strip_special_chars, \"\", string.lower())\n",
    "\n",
    "def getSentenceMatrix(sentence):\n",
    "    arr = np.zeros([batchSize, maxSeqLength])\n",
    "    sentenceMatrix = np.zeros([batchSize,maxSeqLength], dtype='int32')\n",
    "    cleanedSentence = cleanSentences(sentence)\n",
    "    split = cleanedSentence.split()\n",
    "    for indexCounter,word in enumerate(split):\n",
    "        try:\n",
    "            sentenceMatrix[0,indexCounter] = wordsList.index(word)\n",
    "        except ValueError:\n",
    "            sentenceMatrix[0,indexCounter] = len(wordsList) - 1 #Vector for unkown words\n",
    "    return sentenceMatrix"
   ]
  },
  {
   "cell_type": "markdown",
   "metadata": {},
   "source": [
    "Now, we can create our input text. Try modifying the value for inputText, and see how the outputs change!"
   ]
  },
  {
   "cell_type": "code",
   "execution_count": 6,
   "metadata": {},
   "outputs": [],
   "source": [
    "#1\n",
    "f = open('test/NKE_p_test.txt', 'r')\n",
    "fout = open('test_result_30/NKE_p_test_result.txt', 'w')\n",
    "for line in f:\n",
    "    inputText = line\n",
    "    inputMatrix = getSentenceMatrix(inputText)\n",
    "    predictedSentiment = sess.run(prediction, {input_data: inputMatrix})[0]\n",
    "    if (predictedSentiment[0] > predictedSentiment[1]):\n",
    "        fout.write('1.0\\t')\n",
    "        fout.write(line)\n",
    "    else:\n",
    "        fout.write('-1.0\\t')\n",
    "        fout.write(line)\n",
    "fout.close()"
   ]
  },
  {
   "cell_type": "code",
   "execution_count": 7,
   "metadata": {},
   "outputs": [],
   "source": [
    "#1\n",
    "f = open('test/NKE_n_test.txt', 'r')\n",
    "fout = open('test_result_30/NKE_n_test_result.txt', 'w')\n",
    "for line in f:\n",
    "    inputText = line\n",
    "    inputMatrix = getSentenceMatrix(inputText)\n",
    "    predictedSentiment = sess.run(prediction, {input_data: inputMatrix})[0]\n",
    "    if (predictedSentiment[0] > predictedSentiment[1]):\n",
    "        fout.write('1.0\\t')\n",
    "        fout.write(line)\n",
    "    else:\n",
    "        fout.write('-1.0\\t')\n",
    "        fout.write(line)\n",
    "fout.close()"
   ]
  },
  {
   "cell_type": "code",
   "execution_count": 8,
   "metadata": {},
   "outputs": [],
   "source": [
    "#2\n",
    "f = open('test/MMM_p_test.txt', 'r')\n",
    "fout = open('test_result_30/MMM_p_test_result.txt', 'w')\n",
    "for line in f:\n",
    "    inputText = line\n",
    "    inputMatrix = getSentenceMatrix(inputText)\n",
    "    predictedSentiment = sess.run(prediction, {input_data: inputMatrix})[0]\n",
    "    if (predictedSentiment[0] > predictedSentiment[1]):\n",
    "        fout.write('1.0\\t')\n",
    "        fout.write(line)\n",
    "    else:\n",
    "        fout.write('-1.0\\t')\n",
    "        fout.write(line)\n",
    "fout.close()"
   ]
  },
  {
   "cell_type": "code",
   "execution_count": 9,
   "metadata": {},
   "outputs": [],
   "source": [
    "#2\n",
    "f = open('test/MMM_n_test.txt', 'r')\n",
    "fout = open('test_result_30/MMM_n_test_result.txt', 'w')\n",
    "for line in f:\n",
    "    inputText = line\n",
    "    inputMatrix = getSentenceMatrix(inputText)\n",
    "    predictedSentiment = sess.run(prediction, {input_data: inputMatrix})[0]\n",
    "    if (predictedSentiment[0] > predictedSentiment[1]):\n",
    "        fout.write('1.0\\t')\n",
    "        fout.write(line)\n",
    "    else:\n",
    "        fout.write('-1.0\\t')\n",
    "        fout.write(line)\n",
    "fout.close()"
   ]
  },
  {
   "cell_type": "code",
   "execution_count": 10,
   "metadata": {},
   "outputs": [],
   "source": [
    "#3\n",
    "f = open('test/AAPL_p_test.txt', 'r')\n",
    "fout = open('test_result_30/AAPL_p_test_result.txt', 'w')\n",
    "for line in f:\n",
    "    inputText = line\n",
    "    inputMatrix = getSentenceMatrix(inputText)\n",
    "    predictedSentiment = sess.run(prediction, {input_data: inputMatrix})[0]\n",
    "    if (predictedSentiment[0] > predictedSentiment[1]):\n",
    "        fout.write('1.0\\t')\n",
    "        fout.write(line)\n",
    "    else:\n",
    "        fout.write('-1.0\\t')\n",
    "        fout.write(line)\n",
    "fout.close()"
   ]
  },
  {
   "cell_type": "code",
   "execution_count": 11,
   "metadata": {},
   "outputs": [],
   "source": [
    "#3\n",
    "f = open('test/AAPL_n_test.txt', 'r')\n",
    "fout = open('test_result_30/AAPL_n_test_result.txt', 'w')\n",
    "for line in f:\n",
    "    inputText = line\n",
    "    inputMatrix = getSentenceMatrix(inputText)\n",
    "    predictedSentiment = sess.run(prediction, {input_data: inputMatrix})[0]\n",
    "    if (predictedSentiment[0] > predictedSentiment[1]):\n",
    "        fout.write('1.0\\t')\n",
    "        fout.write(line)\n",
    "    else:\n",
    "        fout.write('-1.0\\t')\n",
    "        fout.write(line)\n",
    "fout.close()"
   ]
  },
  {
   "cell_type": "code",
   "execution_count": 12,
   "metadata": {},
   "outputs": [],
   "source": [
    "#4\n",
    "f = open('test/JPM_p_test.txt', 'r')\n",
    "fout = open('test_result_30/JPM_p_test_result.txt', 'w')\n",
    "for line in f:\n",
    "    inputText = line\n",
    "    inputMatrix = getSentenceMatrix(inputText)\n",
    "    predictedSentiment = sess.run(prediction, {input_data: inputMatrix})[0]\n",
    "    if (predictedSentiment[0] > predictedSentiment[1]):\n",
    "        fout.write('1.0\\t')\n",
    "        fout.write(line)\n",
    "    else:\n",
    "        fout.write('-1.0\\t')\n",
    "        fout.write(line)\n",
    "fout.close()"
   ]
  },
  {
   "cell_type": "code",
   "execution_count": 13,
   "metadata": {},
   "outputs": [],
   "source": [
    "#4\n",
    "f = open('test/JPM_n_test.txt', 'r')\n",
    "fout = open('test_result_30/JPM_n_test_result.txt', 'w')\n",
    "for line in f:\n",
    "    inputText = line\n",
    "    inputMatrix = getSentenceMatrix(inputText)\n",
    "    predictedSentiment = sess.run(prediction, {input_data: inputMatrix})[0]\n",
    "    if (predictedSentiment[0] > predictedSentiment[1]):\n",
    "        fout.write('1.0\\t')\n",
    "        fout.write(line)\n",
    "    else:\n",
    "        fout.write('-1.0\\t')\n",
    "        fout.write(line)\n",
    "fout.close()"
   ]
  },
  {
   "cell_type": "code",
   "execution_count": 14,
   "metadata": {},
   "outputs": [],
   "source": [
    "#5\n",
    "f = open('test/GS_p_test.txt', 'r')\n",
    "fout = open('test_result_30/GS_p_test_result.txt', 'w')\n",
    "for line in f:\n",
    "    inputText = line\n",
    "    inputMatrix = getSentenceMatrix(inputText)\n",
    "    predictedSentiment = sess.run(prediction, {input_data: inputMatrix})[0]\n",
    "    if (predictedSentiment[0] > predictedSentiment[1]):\n",
    "        fout.write('1.0\\t')\n",
    "        fout.write(line)\n",
    "    else:\n",
    "        fout.write('-1.0\\t')\n",
    "        fout.write(line)\n",
    "fout.close()"
   ]
  },
  {
   "cell_type": "code",
   "execution_count": 15,
   "metadata": {},
   "outputs": [],
   "source": [
    "#5\n",
    "f = open('test/GS_n_test.txt', 'r')\n",
    "fout = open('test_result_30/GS_n_test_result.txt', 'w')\n",
    "for line in f:\n",
    "    inputText = line\n",
    "    inputMatrix = getSentenceMatrix(inputText)\n",
    "    predictedSentiment = sess.run(prediction, {input_data: inputMatrix})[0]\n",
    "    if (predictedSentiment[0] > predictedSentiment[1]):\n",
    "        fout.write('1.0\\t')\n",
    "        fout.write(line)\n",
    "    else:\n",
    "        fout.write('-1.0\\t')\n",
    "        fout.write(line)\n",
    "fout.close()"
   ]
  },
  {
   "cell_type": "code",
   "execution_count": 16,
   "metadata": {},
   "outputs": [],
   "source": [
    "#6\n",
    "f = open('test/GE_p_test.txt', 'r')\n",
    "fout = open('test_result_30/GE_p_test_result.txt', 'w')\n",
    "for line in f:\n",
    "    inputText = line\n",
    "    inputMatrix = getSentenceMatrix(inputText)\n",
    "    predictedSentiment = sess.run(prediction, {input_data: inputMatrix})[0]\n",
    "    if (predictedSentiment[0] > predictedSentiment[1]):\n",
    "        fout.write('1.0\\t')\n",
    "        fout.write(line)\n",
    "    else:\n",
    "        fout.write('-1.0\\t')\n",
    "        fout.write(line)\n",
    "fout.close()"
   ]
  },
  {
   "cell_type": "code",
   "execution_count": 17,
   "metadata": {},
   "outputs": [],
   "source": [
    "#6\n",
    "f = open('test/GE_n_test.txt', 'r')\n",
    "fout = open('test_result_30/GE_n_test_result.txt', 'w')\n",
    "for line in f:\n",
    "    inputText = line\n",
    "    inputMatrix = getSentenceMatrix(inputText)\n",
    "    predictedSentiment = sess.run(prediction, {input_data: inputMatrix})[0]\n",
    "    if (predictedSentiment[0] > predictedSentiment[1]):\n",
    "        fout.write('1.0\\t')\n",
    "        fout.write(line)\n",
    "    else:\n",
    "        fout.write('-1.0\\t')\n",
    "        fout.write(line)\n",
    "fout.close()"
   ]
  },
  {
   "cell_type": "code",
   "execution_count": 18,
   "metadata": {},
   "outputs": [],
   "source": [
    "#7\n",
    "f = open('test/MSFT_p_test.txt', 'r')\n",
    "fout = open('test_result_30/MSFT_p_test_result.txt', 'w')\n",
    "for line in f:\n",
    "    inputText = line\n",
    "    inputMatrix = getSentenceMatrix(inputText)\n",
    "    predictedSentiment = sess.run(prediction, {input_data: inputMatrix})[0]\n",
    "    if (predictedSentiment[0] > predictedSentiment[1]):\n",
    "        fout.write('1.0\\t')\n",
    "        fout.write(line)\n",
    "    else:\n",
    "        fout.write('-1.0\\t')\n",
    "        fout.write(line)\n",
    "fout.close()"
   ]
  },
  {
   "cell_type": "code",
   "execution_count": 19,
   "metadata": {},
   "outputs": [],
   "source": [
    "#7\n",
    "f = open('test/MSFT_n_test.txt', 'r')\n",
    "fout = open('test_result_30/MSFT_n_test_result.txt', 'w')\n",
    "for line in f:\n",
    "    inputText = line\n",
    "    inputMatrix = getSentenceMatrix(inputText)\n",
    "    predictedSentiment = sess.run(prediction, {input_data: inputMatrix})[0]\n",
    "    if (predictedSentiment[0] > predictedSentiment[1]):\n",
    "        fout.write('1.0\\t')\n",
    "        fout.write(line)\n",
    "    else:\n",
    "        fout.write('-1.0\\t')\n",
    "        fout.write(line)\n",
    "fout.close()"
   ]
  },
  {
   "cell_type": "code",
   "execution_count": 20,
   "metadata": {},
   "outputs": [],
   "source": [
    "#8\n",
    "f = open('test/XOM_p_test.txt', 'r')\n",
    "fout = open('test_result_30/XOM_p_test_result.txt', 'w')\n",
    "for line in f:\n",
    "    inputText = line\n",
    "    inputMatrix = getSentenceMatrix(inputText)\n",
    "    predictedSentiment = sess.run(prediction, {input_data: inputMatrix})[0]\n",
    "    if (predictedSentiment[0] > predictedSentiment[1]):\n",
    "        fout.write('1.0\\t')\n",
    "        fout.write(line)\n",
    "    else:\n",
    "        fout.write('-1.0\\t')\n",
    "        fout.write(line)\n",
    "fout.close()"
   ]
  },
  {
   "cell_type": "code",
   "execution_count": 21,
   "metadata": {},
   "outputs": [],
   "source": [
    "#8\n",
    "f = open('test/XOM_n_test.txt', 'r')\n",
    "fout = open('test_result_30/XOM_n_test_result.txt', 'w')\n",
    "for line in f:\n",
    "    inputText = line\n",
    "    inputMatrix = getSentenceMatrix(inputText)\n",
    "    predictedSentiment = sess.run(prediction, {input_data: inputMatrix})[0]\n",
    "    if (predictedSentiment[0] > predictedSentiment[1]):\n",
    "        fout.write('1.0\\t')\n",
    "        fout.write(line)\n",
    "    else:\n",
    "        fout.write('-1.0\\t')\n",
    "        fout.write(line)\n",
    "fout.close()"
   ]
  },
  {
   "cell_type": "code",
   "execution_count": 22,
   "metadata": {},
   "outputs": [],
   "source": [
    "#9\n",
    "f = open('test/BA_p_test.txt', 'r')\n",
    "fout = open('test_result_30/BA_p_test_result.txt', 'w')\n",
    "for line in f:\n",
    "    inputText = line\n",
    "    inputMatrix = getSentenceMatrix(inputText)\n",
    "    predictedSentiment = sess.run(prediction, {input_data: inputMatrix})[0]\n",
    "    if (predictedSentiment[0] > predictedSentiment[1]):\n",
    "        fout.write('1.0\\t')\n",
    "        fout.write(line)\n",
    "    else:\n",
    "        fout.write('-1.0\\t')\n",
    "        fout.write(line)\n",
    "fout.close()"
   ]
  },
  {
   "cell_type": "code",
   "execution_count": 23,
   "metadata": {},
   "outputs": [],
   "source": [
    "#9\n",
    "f = open('test/BA_n_test.txt', 'r')\n",
    "fout = open('test_result_30/BA_n_test_result.txt', 'w')\n",
    "for line in f:\n",
    "    inputText = line\n",
    "    inputMatrix = getSentenceMatrix(inputText)\n",
    "    predictedSentiment = sess.run(prediction, {input_data: inputMatrix})[0]\n",
    "    if (predictedSentiment[0] > predictedSentiment[1]):\n",
    "        fout.write('1.0\\t')\n",
    "        fout.write(line)\n",
    "    else:\n",
    "        fout.write('-1.0\\t')\n",
    "        fout.write(line)\n",
    "fout.close()"
   ]
  },
  {
   "cell_type": "code",
   "execution_count": 24,
   "metadata": {},
   "outputs": [],
   "source": [
    "#10\n",
    "f = open('test/WMT_p_test.txt', 'r')\n",
    "fout = open('test_result_30/WMT_p_test_result.txt', 'w')\n",
    "for line in f:\n",
    "    inputText = line\n",
    "    inputMatrix = getSentenceMatrix(inputText)\n",
    "    predictedSentiment = sess.run(prediction, {input_data: inputMatrix})[0]\n",
    "    if (predictedSentiment[0] > predictedSentiment[1]):\n",
    "        fout.write('1.0\\t')\n",
    "        fout.write(line)\n",
    "    else:\n",
    "        fout.write('-1.0\\t')\n",
    "        fout.write(line)\n",
    "fout.close()"
   ]
  },
  {
   "cell_type": "code",
   "execution_count": 25,
   "metadata": {},
   "outputs": [],
   "source": [
    "#10\n",
    "f = open('test/WMT_n_test.txt', 'r')\n",
    "fout = open('test_result_30/WMT_n_test_result.txt', 'w')\n",
    "for line in f:\n",
    "    inputText = line\n",
    "    inputMatrix = getSentenceMatrix(inputText)\n",
    "    predictedSentiment = sess.run(prediction, {input_data: inputMatrix})[0]\n",
    "    if (predictedSentiment[0] > predictedSentiment[1]):\n",
    "        fout.write('1.0\\t')\n",
    "        fout.write(line)\n",
    "    else:\n",
    "        fout.write('-1.0\\t')\n",
    "        fout.write(line)\n",
    "fout.close()"
   ]
  },
  {
   "cell_type": "code",
   "execution_count": 26,
   "metadata": {},
   "outputs": [],
   "source": [
    "#11\n",
    "f = open('test/INTC_p_test.txt', 'r')\n",
    "fout = open('test_result_30/INTC_p_test_result.txt', 'w')\n",
    "for line in f:\n",
    "    inputText = line\n",
    "    inputMatrix = getSentenceMatrix(inputText)\n",
    "    predictedSentiment = sess.run(prediction, {input_data: inputMatrix})[0]\n",
    "    if (predictedSentiment[0] > predictedSentiment[1]):\n",
    "        fout.write('1.0\\t')\n",
    "        fout.write(line)\n",
    "    else:\n",
    "        fout.write('-1.0\\t')\n",
    "        fout.write(line)\n",
    "fout.close()"
   ]
  },
  {
   "cell_type": "code",
   "execution_count": 27,
   "metadata": {},
   "outputs": [],
   "source": [
    "#11\n",
    "f = open('test/INTC_n_test.txt', 'r')\n",
    "fout = open('test_result_30/INTC_n_test_result.txt', 'w')\n",
    "for line in f:\n",
    "    inputText = line\n",
    "    inputMatrix = getSentenceMatrix(inputText)\n",
    "    predictedSentiment = sess.run(prediction, {input_data: inputMatrix})[0]\n",
    "    if (predictedSentiment[0] > predictedSentiment[1]):\n",
    "        fout.write('1.0\\t')\n",
    "        fout.write(line)\n",
    "    else:\n",
    "        fout.write('-1.0\\t')\n",
    "        fout.write(line)\n",
    "fout.close()"
   ]
  },
  {
   "cell_type": "code",
   "execution_count": 28,
   "metadata": {},
   "outputs": [],
   "source": [
    "#12\n",
    "f = open('test/PFE_p_test.txt', 'r')\n",
    "fout = open('test_result_30/PFE_p_test_result.txt', 'w')\n",
    "for line in f:\n",
    "    inputText = line\n",
    "    inputMatrix = getSentenceMatrix(inputText)\n",
    "    predictedSentiment = sess.run(prediction, {input_data: inputMatrix})[0]\n",
    "    if (predictedSentiment[0] > predictedSentiment[1]):\n",
    "        fout.write('1.0\\t')\n",
    "        fout.write(line)\n",
    "    else:\n",
    "        fout.write('-1.0\\t')\n",
    "        fout.write(line)\n",
    "fout.close()"
   ]
  },
  {
   "cell_type": "code",
   "execution_count": 29,
   "metadata": {},
   "outputs": [],
   "source": [
    "#12\n",
    "f = open('test/PFE_n_test.txt', 'r')\n",
    "fout = open('test_result_30/PFE_n_test_result.txt', 'w')\n",
    "for line in f:\n",
    "    inputText = line\n",
    "    inputMatrix = getSentenceMatrix(inputText)\n",
    "    predictedSentiment = sess.run(prediction, {input_data: inputMatrix})[0]\n",
    "    if (predictedSentiment[0] > predictedSentiment[1]):\n",
    "        fout.write('1.0\\t')\n",
    "        fout.write(line)\n",
    "    else:\n",
    "        fout.write('-1.0\\t')\n",
    "        fout.write(line)\n",
    "fout.close()"
   ]
  },
  {
   "cell_type": "code",
   "execution_count": 30,
   "metadata": {},
   "outputs": [],
   "source": [
    "#13\n",
    "f = open('test/CVX_p_test.txt', 'r')\n",
    "fout = open('test_result_30/CVX_p_test_result.txt', 'w')\n",
    "for line in f:\n",
    "    inputText = line\n",
    "    inputMatrix = getSentenceMatrix(inputText)\n",
    "    predictedSentiment = sess.run(prediction, {input_data: inputMatrix})[0]\n",
    "    if (predictedSentiment[0] > predictedSentiment[1]):\n",
    "        fout.write('1.0\\t')\n",
    "        fout.write(line)\n",
    "    else:\n",
    "        fout.write('-1.0\\t')\n",
    "        fout.write(line)\n",
    "fout.close()"
   ]
  },
  {
   "cell_type": "code",
   "execution_count": 31,
   "metadata": {},
   "outputs": [],
   "source": [
    "#13\n",
    "f = open('test/CVX_n_test.txt', 'r')\n",
    "fout = open('test_result_30/CVX_n_test_result.txt', 'w')\n",
    "for line in f:\n",
    "    inputText = line\n",
    "    inputMatrix = getSentenceMatrix(inputText)\n",
    "    predictedSentiment = sess.run(prediction, {input_data: inputMatrix})[0]\n",
    "    if (predictedSentiment[0] > predictedSentiment[1]):\n",
    "        fout.write('1.0\\t')\n",
    "        fout.write(line)\n",
    "    else:\n",
    "        fout.write('-1.0\\t')\n",
    "        fout.write(line)\n",
    "fout.close()"
   ]
  },
  {
   "cell_type": "code",
   "execution_count": 32,
   "metadata": {},
   "outputs": [],
   "source": [
    "#14\n",
    "f = open('test/IBM_p_test.txt', 'r')\n",
    "fout = open('test_result_30/IBM_p_test_result.txt', 'w')\n",
    "for line in f:\n",
    "    inputText = line\n",
    "    inputMatrix = getSentenceMatrix(inputText)\n",
    "    predictedSentiment = sess.run(prediction, {input_data: inputMatrix})[0]\n",
    "    if (predictedSentiment[0] > predictedSentiment[1]):\n",
    "        fout.write('1.0\\t')\n",
    "        fout.write(line)\n",
    "    else:\n",
    "        fout.write('-1.0\\t')\n",
    "        fout.write(line)\n",
    "fout.close()"
   ]
  },
  {
   "cell_type": "code",
   "execution_count": 33,
   "metadata": {},
   "outputs": [],
   "source": [
    "#14\n",
    "f = open('test/IBM_n_test.txt', 'r')\n",
    "fout = open('test_result_30/IBM_n_test_result.txt', 'w')\n",
    "for line in f:\n",
    "    inputText = line\n",
    "    inputMatrix = getSentenceMatrix(inputText)\n",
    "    predictedSentiment = sess.run(prediction, {input_data: inputMatrix})[0]\n",
    "    if (predictedSentiment[0] > predictedSentiment[1]):\n",
    "        fout.write('1.0\\t')\n",
    "        fout.write(line)\n",
    "    else:\n",
    "        fout.write('-1.0\\t')\n",
    "        fout.write(line)\n",
    "fout.close()"
   ]
  },
  {
   "cell_type": "code",
   "execution_count": 34,
   "metadata": {},
   "outputs": [],
   "source": [
    "#15\n",
    "f = open('test/MRK_p_test.txt', 'r')\n",
    "fout = open('test_result_30/MRK_p_test_result.txt', 'w')\n",
    "for line in f:\n",
    "    inputText = line\n",
    "    inputMatrix = getSentenceMatrix(inputText)\n",
    "    predictedSentiment = sess.run(prediction, {input_data: inputMatrix})[0]\n",
    "    if (predictedSentiment[0] > predictedSentiment[1]):\n",
    "        fout.write('1.0\\t')\n",
    "        fout.write(line)\n",
    "    else:\n",
    "        fout.write('-1.0\\t')\n",
    "        fout.write(line)\n",
    "fout.close()"
   ]
  },
  {
   "cell_type": "code",
   "execution_count": 35,
   "metadata": {},
   "outputs": [],
   "source": [
    "#15\n",
    "f = open('test/MRK_n_test.txt', 'r')\n",
    "fout = open('test_result_30/MRK_n_test_result.txt', 'w')\n",
    "for line in f:\n",
    "    inputText = line\n",
    "    inputMatrix = getSentenceMatrix(inputText)\n",
    "    predictedSentiment = sess.run(prediction, {input_data: inputMatrix})[0]\n",
    "    if (predictedSentiment[0] > predictedSentiment[1]):\n",
    "        fout.write('1.0\\t')\n",
    "        fout.write(line)\n",
    "    else:\n",
    "        fout.write('-1.0\\t')\n",
    "        fout.write(line)\n",
    "fout.close()"
   ]
  },
  {
   "cell_type": "code",
   "execution_count": 36,
   "metadata": {},
   "outputs": [],
   "source": [
    "#16\n",
    "f = open('test/VZ_p_test.txt', 'r')\n",
    "fout = open('test_result_30/VZ_p_test_result.txt', 'w')\n",
    "for line in f:\n",
    "    inputText = line\n",
    "    inputMatrix = getSentenceMatrix(inputText)\n",
    "    predictedSentiment = sess.run(prediction, {input_data: inputMatrix})[0]\n",
    "    if (predictedSentiment[0] > predictedSentiment[1]):\n",
    "        fout.write('1.0\\t')\n",
    "        fout.write(line)\n",
    "    else:\n",
    "        fout.write('-1.0\\t')\n",
    "        fout.write(line)\n",
    "fout.close()"
   ]
  },
  {
   "cell_type": "code",
   "execution_count": 37,
   "metadata": {},
   "outputs": [],
   "source": [
    "#16\n",
    "f = open('test/VZ_n_test.txt', 'r')\n",
    "fout = open('test_result_30/VZ_n_test_result.txt', 'w')\n",
    "for line in f:\n",
    "    inputText = line\n",
    "    inputMatrix = getSentenceMatrix(inputText)\n",
    "    predictedSentiment = sess.run(prediction, {input_data: inputMatrix})[0]\n",
    "    if (predictedSentiment[0] > predictedSentiment[1]):\n",
    "        fout.write('1.0\\t')\n",
    "        fout.write(line)\n",
    "    else:\n",
    "        fout.write('-1.0\\t')\n",
    "        fout.write(line)\n",
    "fout.close()"
   ]
  },
  {
   "cell_type": "code",
   "execution_count": 38,
   "metadata": {},
   "outputs": [],
   "source": [
    "#17\n",
    "f = open('test/JNJ_p_test.txt', 'r')\n",
    "fout = open('test_result_30/JNJ_p_test_result.txt', 'w')\n",
    "for line in f:\n",
    "    inputText = line\n",
    "    inputMatrix = getSentenceMatrix(inputText)\n",
    "    predictedSentiment = sess.run(prediction, {input_data: inputMatrix})[0]\n",
    "    if (predictedSentiment[0] > predictedSentiment[1]):\n",
    "        fout.write('1.0\\t')\n",
    "        fout.write(line)\n",
    "    else:\n",
    "        fout.write('-1.0\\t')\n",
    "        fout.write(line)\n",
    "fout.close()"
   ]
  },
  {
   "cell_type": "code",
   "execution_count": 39,
   "metadata": {},
   "outputs": [],
   "source": [
    "#17\n",
    "f = open('test/JNJ_n_test.txt', 'r')\n",
    "fout = open('test_result_30/JNJ_n_test_result.txt', 'w')\n",
    "for line in f:\n",
    "    inputText = line\n",
    "    inputMatrix = getSentenceMatrix(inputText)\n",
    "    predictedSentiment = sess.run(prediction, {input_data: inputMatrix})[0]\n",
    "    if (predictedSentiment[0] > predictedSentiment[1]):\n",
    "        fout.write('1.0\\t')\n",
    "        fout.write(line)\n",
    "    else:\n",
    "        fout.write('-1.0\\t')\n",
    "        fout.write(line)\n",
    "fout.close()"
   ]
  },
  {
   "cell_type": "code",
   "execution_count": 40,
   "metadata": {},
   "outputs": [],
   "source": [
    "#18\n",
    "f = open('test/CSCO_p_test.txt', 'r')\n",
    "fout = open('test_result_30/CSCO_p_test_result.txt', 'w')\n",
    "for line in f:\n",
    "    inputText = line\n",
    "    inputMatrix = getSentenceMatrix(inputText)\n",
    "    predictedSentiment = sess.run(prediction, {input_data: inputMatrix})[0]\n",
    "    if (predictedSentiment[0] > predictedSentiment[1]):\n",
    "        fout.write('1.0\\t')\n",
    "        fout.write(line)\n",
    "    else:\n",
    "        fout.write('-1.0\\t')\n",
    "        fout.write(line)\n",
    "fout.close()"
   ]
  },
  {
   "cell_type": "code",
   "execution_count": 41,
   "metadata": {},
   "outputs": [],
   "source": [
    "#18\n",
    "f = open('test/CSCO_n_test.txt', 'r')\n",
    "fout = open('test_result_30/CSCO_n_test_result.txt', 'w')\n",
    "for line in f:\n",
    "    inputText = line\n",
    "    inputMatrix = getSentenceMatrix(inputText)\n",
    "    predictedSentiment = sess.run(prediction, {input_data: inputMatrix})[0]\n",
    "    if (predictedSentiment[0] > predictedSentiment[1]):\n",
    "        fout.write('1.0\\t')\n",
    "        fout.write(line)\n",
    "    else:\n",
    "        fout.write('-1.0\\t')\n",
    "        fout.write(line)\n",
    "fout.close()"
   ]
  },
  {
   "cell_type": "code",
   "execution_count": 42,
   "metadata": {},
   "outputs": [],
   "source": [
    "#19\n",
    "f = open('test/CAT_p_test.txt', 'r')\n",
    "fout = open('test_result_30/CAT_p_test_result.txt', 'w')\n",
    "for line in f:\n",
    "    inputText = line\n",
    "    inputMatrix = getSentenceMatrix(inputText)\n",
    "    predictedSentiment = sess.run(prediction, {input_data: inputMatrix})[0]\n",
    "    if (predictedSentiment[0] > predictedSentiment[1]):\n",
    "        fout.write('1.0\\t')\n",
    "        fout.write(line)\n",
    "    else:\n",
    "        fout.write('-1.0\\t')\n",
    "        fout.write(line)\n",
    "fout.close()"
   ]
  },
  {
   "cell_type": "code",
   "execution_count": 43,
   "metadata": {},
   "outputs": [],
   "source": [
    "#19\n",
    "f = open('test/CAT_n_test.txt', 'r')\n",
    "fout = open('test_result_30/CAT_n_test_result.txt', 'w')\n",
    "for line in f:\n",
    "    inputText = line\n",
    "    inputMatrix = getSentenceMatrix(inputText)\n",
    "    predictedSentiment = sess.run(prediction, {input_data: inputMatrix})[0]\n",
    "    if (predictedSentiment[0] > predictedSentiment[1]):\n",
    "        fout.write('1.0\\t')\n",
    "        fout.write(line)\n",
    "    else:\n",
    "        fout.write('-1.0\\t')\n",
    "        fout.write(line)\n",
    "fout.close()"
   ]
  },
  {
   "cell_type": "code",
   "execution_count": 44,
   "metadata": {},
   "outputs": [],
   "source": [
    "#20*\n",
    "f = open('test/DIS_p_test.txt', 'r')\n",
    "fout = open('test_result_30/DIS_p_test_result.txt', 'w')\n",
    "for line in f:\n",
    "    inputText = line\n",
    "    inputMatrix = getSentenceMatrix(inputText)\n",
    "    predictedSentiment = sess.run(prediction, {input_data: inputMatrix})[0]\n",
    "    if (predictedSentiment[0] > predictedSentiment[1]):\n",
    "        fout.write('1.0\\t')\n",
    "        fout.write(line)\n",
    "    else:\n",
    "        fout.write('-1.0\\t')\n",
    "        fout.write(line)\n",
    "fout.close()"
   ]
  },
  {
   "cell_type": "code",
   "execution_count": 45,
   "metadata": {},
   "outputs": [],
   "source": [
    "#20*\n",
    "f = open('test/DIS_n_test.txt', 'r')\n",
    "fout = open('test_result_30/DIS_n_test_result.txt', 'w')\n",
    "for line in f:\n",
    "    inputText = line\n",
    "    inputMatrix = getSentenceMatrix(inputText)\n",
    "    predictedSentiment = sess.run(prediction, {input_data: inputMatrix})[0]\n",
    "    if (predictedSentiment[0] > predictedSentiment[1]):\n",
    "        fout.write('1.0\\t')\n",
    "        fout.write(line)\n",
    "    else:\n",
    "        fout.write('-1.0\\t')\n",
    "        fout.write(line)\n",
    "fout.close()"
   ]
  },
  {
   "cell_type": "code",
   "execution_count": 46,
   "metadata": {},
   "outputs": [],
   "source": [
    "#21\n",
    "f = open('test/PG_p_test.txt', 'r')\n",
    "fout = open('test_result_30/PG_p_test_result.txt', 'w')\n",
    "for line in f:\n",
    "    inputText = line\n",
    "    inputMatrix = getSentenceMatrix(inputText)\n",
    "    predictedSentiment = sess.run(prediction, {input_data: inputMatrix})[0]\n",
    "    if (predictedSentiment[0] > predictedSentiment[1]):\n",
    "        fout.write('1.0\\t')\n",
    "        fout.write(line)\n",
    "    else:\n",
    "        fout.write('-1.0\\t')\n",
    "        fout.write(line)\n",
    "fout.close()"
   ]
  },
  {
   "cell_type": "code",
   "execution_count": 47,
   "metadata": {},
   "outputs": [],
   "source": [
    "#21\n",
    "f = open('test/PG_n_test.txt', 'r')\n",
    "fout = open('test_result_30/PG_n_test_result.txt', 'w')\n",
    "for line in f:\n",
    "    inputText = line\n",
    "    inputMatrix = getSentenceMatrix(inputText)\n",
    "    predictedSentiment = sess.run(prediction, {input_data: inputMatrix})[0]\n",
    "    if (predictedSentiment[0] > predictedSentiment[1]):\n",
    "        fout.write('1.0\\t')\n",
    "        fout.write(line)\n",
    "    else:\n",
    "        fout.write('-1.0\\t')\n",
    "        fout.write(line)\n",
    "fout.close()"
   ]
  },
  {
   "cell_type": "code",
   "execution_count": 48,
   "metadata": {},
   "outputs": [],
   "source": [
    "#22\n",
    "f = open('test/KO_p_test.txt', 'r')\n",
    "fout = open('test_result_30/KO_p_test_result.txt', 'w')\n",
    "for line in f:\n",
    "    inputText = line\n",
    "    inputMatrix = getSentenceMatrix(inputText)\n",
    "    predictedSentiment = sess.run(prediction, {input_data: inputMatrix})[0]\n",
    "    if (predictedSentiment[0] > predictedSentiment[1]):\n",
    "        fout.write('1.0\\t')\n",
    "        fout.write(line)\n",
    "    else:\n",
    "        fout.write('-1.0\\t')\n",
    "        fout.write(line)\n",
    "fout.close()"
   ]
  },
  {
   "cell_type": "code",
   "execution_count": 49,
   "metadata": {},
   "outputs": [],
   "source": [
    "#22\n",
    "f = open('test/KO_n_test.txt', 'r')\n",
    "fout = open('test_result_30/KO_n_test_result.txt', 'w')\n",
    "for line in f:\n",
    "    inputText = line\n",
    "    inputMatrix = getSentenceMatrix(inputText)\n",
    "    predictedSentiment = sess.run(prediction, {input_data: inputMatrix})[0]\n",
    "    if (predictedSentiment[0] > predictedSentiment[1]):\n",
    "        fout.write('1.0\\t')\n",
    "        fout.write(line)\n",
    "    else:\n",
    "        fout.write('-1.0\\t')\n",
    "        fout.write(line)\n",
    "fout.close()"
   ]
  },
  {
   "cell_type": "code",
   "execution_count": 50,
   "metadata": {},
   "outputs": [],
   "source": [
    "#23\n",
    "f = open('test/MCD_p_test.txt', 'r')\n",
    "fout = open('test_result_30/MCD_p_test_result.txt', 'w')\n",
    "for line in f:\n",
    "    inputText = line\n",
    "    inputMatrix = getSentenceMatrix(inputText)\n",
    "    predictedSentiment = sess.run(prediction, {input_data: inputMatrix})[0]\n",
    "    if (predictedSentiment[0] > predictedSentiment[1]):\n",
    "        fout.write('1.0\\t')\n",
    "        fout.write(line)\n",
    "    else:\n",
    "        fout.write('-1.0\\t')\n",
    "        fout.write(line)\n",
    "fout.close()"
   ]
  },
  {
   "cell_type": "code",
   "execution_count": 51,
   "metadata": {},
   "outputs": [],
   "source": [
    "#23\n",
    "f = open('test/MCD_n_test.txt', 'r')\n",
    "fout = open('test_result_30/MCD_n_test_result.txt', 'w')\n",
    "for line in f:\n",
    "    inputText = line\n",
    "    inputMatrix = getSentenceMatrix(inputText)\n",
    "    predictedSentiment = sess.run(prediction, {input_data: inputMatrix})[0]\n",
    "    if (predictedSentiment[0] > predictedSentiment[1]):\n",
    "        fout.write('1.0\\t')\n",
    "        fout.write(line)\n",
    "    else:\n",
    "        fout.write('-1.0\\t')\n",
    "        fout.write(line)\n",
    "fout.close()"
   ]
  },
  {
   "cell_type": "code",
   "execution_count": 52,
   "metadata": {},
   "outputs": [],
   "source": [
    "#24\n",
    "f = open('test/HD_p_test.txt', 'r')\n",
    "fout = open('test_result_30/HD_p_test_result.txt', 'w')\n",
    "for line in f:\n",
    "    inputText = line\n",
    "    inputMatrix = getSentenceMatrix(inputText)\n",
    "    predictedSentiment = sess.run(prediction, {input_data: inputMatrix})[0]\n",
    "    if (predictedSentiment[0] > predictedSentiment[1]):\n",
    "        fout.write('1.0\\t')\n",
    "        fout.write(line)\n",
    "    else:\n",
    "        fout.write('-1.0\\t')\n",
    "        fout.write(line)\n",
    "fout.close()"
   ]
  },
  {
   "cell_type": "code",
   "execution_count": 53,
   "metadata": {},
   "outputs": [],
   "source": [
    "#24\n",
    "f = open('test/HD_n_test.txt', 'r')\n",
    "fout = open('test_result_30/HD_n_test_result.txt', 'w')\n",
    "for line in f:\n",
    "    inputText = line\n",
    "    inputMatrix = getSentenceMatrix(inputText)\n",
    "    predictedSentiment = sess.run(prediction, {input_data: inputMatrix})[0]\n",
    "    if (predictedSentiment[0] > predictedSentiment[1]):\n",
    "        fout.write('1.0\\t')\n",
    "        fout.write(line)\n",
    "    else:\n",
    "        fout.write('-1.0\\t')\n",
    "        fout.write(line)\n",
    "fout.close()"
   ]
  },
  {
   "cell_type": "code",
   "execution_count": 54,
   "metadata": {},
   "outputs": [],
   "source": [
    "#25\n",
    "f = open('test/AXP_p_test.txt', 'r')\n",
    "fout = open('test_result_30/AXP_p_test_result.txt', 'w')\n",
    "for line in f:\n",
    "    inputText = line\n",
    "    inputMatrix = getSentenceMatrix(inputText)\n",
    "    predictedSentiment = sess.run(prediction, {input_data: inputMatrix})[0]\n",
    "    if (predictedSentiment[0] > predictedSentiment[1]):\n",
    "        fout.write('1.0\\t')\n",
    "        fout.write(line)\n",
    "    else:\n",
    "        fout.write('-1.0\\t')\n",
    "        fout.write(line)\n",
    "fout.close()"
   ]
  },
  {
   "cell_type": "code",
   "execution_count": 55,
   "metadata": {},
   "outputs": [],
   "source": [
    "#25\n",
    "f = open('test/AXP_n_test.txt', 'r')\n",
    "fout = open('test_result_30/AXP_n_test_result.txt', 'w')\n",
    "for line in f:\n",
    "    inputText = line\n",
    "    inputMatrix = getSentenceMatrix(inputText)\n",
    "    predictedSentiment = sess.run(prediction, {input_data: inputMatrix})[0]\n",
    "    if (predictedSentiment[0] > predictedSentiment[1]):\n",
    "        fout.write('1.0\\t')\n",
    "        fout.write(line)\n",
    "    else:\n",
    "        fout.write('-1.0\\t')\n",
    "        fout.write(line)\n",
    "fout.close()"
   ]
  },
  {
   "cell_type": "code",
   "execution_count": 56,
   "metadata": {},
   "outputs": [],
   "source": [
    "#26\n",
    "f = open('test/UTX_p_test.txt', 'r')\n",
    "fout = open('test_result_30/UTX_p_test_result.txt', 'w')\n",
    "for line in f:\n",
    "    inputText = line\n",
    "    inputMatrix = getSentenceMatrix(inputText)\n",
    "    predictedSentiment = sess.run(prediction, {input_data: inputMatrix})[0]\n",
    "    if (predictedSentiment[0] > predictedSentiment[1]):\n",
    "        fout.write('1.0\\t')\n",
    "        fout.write(line)\n",
    "    else:\n",
    "        fout.write('-1.0\\t')\n",
    "        fout.write(line)\n",
    "fout.close()"
   ]
  },
  {
   "cell_type": "code",
   "execution_count": 57,
   "metadata": {},
   "outputs": [],
   "source": [
    "#26\n",
    "f = open('test/UTX_n_test.txt', 'r')\n",
    "fout = open('test_result_30/UTX_n_test_result.txt', 'w')\n",
    "for line in f:\n",
    "    inputText = line\n",
    "    inputMatrix = getSentenceMatrix(inputText)\n",
    "    predictedSentiment = sess.run(prediction, {input_data: inputMatrix})[0]\n",
    "    if (predictedSentiment[0] > predictedSentiment[1]):\n",
    "        fout.write('1.0\\t')\n",
    "        fout.write(line)\n",
    "    else:\n",
    "        fout.write('-1.0\\t')\n",
    "        fout.write(line)\n",
    "fout.close()"
   ]
  },
  {
   "cell_type": "code",
   "execution_count": 58,
   "metadata": {},
   "outputs": [],
   "source": [
    "#27\n",
    "f = open('test/UNH_p_test.txt', 'r')\n",
    "fout = open('test_result_30/UNH_p_test_result.txt', 'w')\n",
    "for line in f:\n",
    "    inputText = line\n",
    "    inputMatrix = getSentenceMatrix(inputText)\n",
    "    predictedSentiment = sess.run(prediction, {input_data: inputMatrix})[0]\n",
    "    if (predictedSentiment[0] > predictedSentiment[1]):\n",
    "        fout.write('1.0\\t')\n",
    "        fout.write(line)\n",
    "    else:\n",
    "        fout.write('-1.0\\t')\n",
    "        fout.write(line)\n",
    "fout.close()"
   ]
  },
  {
   "cell_type": "code",
   "execution_count": 59,
   "metadata": {},
   "outputs": [],
   "source": [
    "#27\n",
    "f = open('test/UNH_n_test.txt', 'r')\n",
    "fout = open('test_result_30/UNH_n_test_result.txt', 'w')\n",
    "for line in f:\n",
    "    inputText = line\n",
    "    inputMatrix = getSentenceMatrix(inputText)\n",
    "    predictedSentiment = sess.run(prediction, {input_data: inputMatrix})[0]\n",
    "    if (predictedSentiment[0] > predictedSentiment[1]):\n",
    "        fout.write('1.0\\t')\n",
    "        fout.write(line)\n",
    "    else:\n",
    "        fout.write('-1.0\\t')\n",
    "        fout.write(line)\n",
    "fout.close()"
   ]
  },
  {
   "cell_type": "code",
   "execution_count": 60,
   "metadata": {},
   "outputs": [],
   "source": [
    "#28\n",
    "f = open('test/V_p_test.txt', 'r')\n",
    "fout = open('test_result_30/V_p_test_result.txt', 'w')\n",
    "for line in f:\n",
    "    inputText = line\n",
    "    inputMatrix = getSentenceMatrix(inputText)\n",
    "    predictedSentiment = sess.run(prediction, {input_data: inputMatrix})[0]\n",
    "    if (predictedSentiment[0] > predictedSentiment[1]):\n",
    "        fout.write('1.0\\t')\n",
    "        fout.write(line)\n",
    "    else:\n",
    "        fout.write('-1.0\\t')\n",
    "        fout.write(line)\n",
    "fout.close()"
   ]
  },
  {
   "cell_type": "code",
   "execution_count": 61,
   "metadata": {},
   "outputs": [],
   "source": [
    "#28\n",
    "f = open('test/V_n_test.txt', 'r')\n",
    "fout = open('test_result_30/V_n_test_result.txt', 'w')\n",
    "for line in f:\n",
    "    inputText = line\n",
    "    inputMatrix = getSentenceMatrix(inputText)\n",
    "    predictedSentiment = sess.run(prediction, {input_data: inputMatrix})[0]\n",
    "    if (predictedSentiment[0] > predictedSentiment[1]):\n",
    "        fout.write('1.0\\t')\n",
    "        fout.write(line)\n",
    "    else:\n",
    "        fout.write('-1.0\\t')\n",
    "        fout.write(line)\n",
    "fout.close()"
   ]
  },
  {
   "cell_type": "code",
   "execution_count": 62,
   "metadata": {},
   "outputs": [],
   "source": [
    "#29\n",
    "f = open('test/TRV_p_test.txt', 'r')\n",
    "fout = open('test_result_30/TRV_p_test_result.txt', 'w')\n",
    "for line in f:\n",
    "    inputText = line\n",
    "    inputMatrix = getSentenceMatrix(inputText)\n",
    "    predictedSentiment = sess.run(prediction, {input_data: inputMatrix})[0]\n",
    "    if (predictedSentiment[0] > predictedSentiment[1]):\n",
    "        fout.write('1.0\\t')\n",
    "        fout.write(line)\n",
    "    else:\n",
    "        fout.write('-1.0\\t')\n",
    "        fout.write(line)\n",
    "fout.close()"
   ]
  },
  {
   "cell_type": "code",
   "execution_count": 63,
   "metadata": {},
   "outputs": [],
   "source": [
    "#29\n",
    "f = open('test/TRV_n_test.txt', 'r')\n",
    "fout = open('test_result_30/TRV_n_test_result.txt', 'w')\n",
    "for line in f:\n",
    "    inputText = line\n",
    "    inputMatrix = getSentenceMatrix(inputText)\n",
    "    predictedSentiment = sess.run(prediction, {input_data: inputMatrix})[0]\n",
    "    if (predictedSentiment[0] > predictedSentiment[1]):\n",
    "        fout.write('1.0\\t')\n",
    "        fout.write(line)\n",
    "    else:\n",
    "        fout.write('-1.0\\t')\n",
    "        fout.write(line)\n",
    "fout.close()"
   ]
  },
  {
   "cell_type": "code",
   "execution_count": null,
   "metadata": {},
   "outputs": [],
   "source": []
  }
 ],
 "metadata": {
  "kernelspec": {
   "display_name": "Python 3",
   "language": "python",
   "name": "python3"
  },
  "language_info": {
   "codemirror_mode": {
    "name": "ipython",
    "version": 3
   },
   "file_extension": ".py",
   "mimetype": "text/x-python",
   "name": "python",
   "nbconvert_exporter": "python",
   "pygments_lexer": "ipython3",
   "version": "3.6.5"
  }
 },
 "nbformat": 4,
 "nbformat_minor": 1
}
